{
 "cells": [
  {
   "cell_type": "code",
   "execution_count": 1,
   "metadata": {},
   "outputs": [],
   "source": [
    "import pandas as pd\n",
    "import numpy as np\n",
    "import matplotlib.pyplot as plt\n",
    "import seaborn as sns"
   ]
  },
  {
   "cell_type": "code",
   "execution_count": 2,
   "metadata": {},
   "outputs": [
    {
     "data": {
      "text/html": [
       "<div>\n",
       "<style scoped>\n",
       "    .dataframe tbody tr th:only-of-type {\n",
       "        vertical-align: middle;\n",
       "    }\n",
       "\n",
       "    .dataframe tbody tr th {\n",
       "        vertical-align: top;\n",
       "    }\n",
       "\n",
       "    .dataframe thead th {\n",
       "        text-align: right;\n",
       "    }\n",
       "</style>\n",
       "<table border=\"1\" class=\"dataframe\">\n",
       "  <thead>\n",
       "    <tr style=\"text-align: right;\">\n",
       "      <th></th>\n",
       "      <th>Country</th>\n",
       "      <th>Year</th>\n",
       "      <th>Arabica Production</th>\n",
       "      <th>Bean Exports</th>\n",
       "      <th>Bean Imports</th>\n",
       "      <th>Beginning Stocks</th>\n",
       "      <th>Domestic Consumption</th>\n",
       "      <th>Ending Stocks</th>\n",
       "      <th>Exports</th>\n",
       "      <th>Imports</th>\n",
       "      <th>...</th>\n",
       "      <th>Production</th>\n",
       "      <th>Roast &amp; Ground Exports</th>\n",
       "      <th>Roast &amp; Ground Imports</th>\n",
       "      <th>Robusta Production</th>\n",
       "      <th>Rst,Ground Dom. Consum</th>\n",
       "      <th>Soluble Dom. Cons.</th>\n",
       "      <th>Soluble Exports</th>\n",
       "      <th>Soluble Imports</th>\n",
       "      <th>Total Distribution</th>\n",
       "      <th>Total Supply</th>\n",
       "    </tr>\n",
       "  </thead>\n",
       "  <tbody>\n",
       "    <tr>\n",
       "      <th>0</th>\n",
       "      <td>Albania</td>\n",
       "      <td>1960</td>\n",
       "      <td>0</td>\n",
       "      <td>0</td>\n",
       "      <td>0</td>\n",
       "      <td>0</td>\n",
       "      <td>0</td>\n",
       "      <td>0</td>\n",
       "      <td>0</td>\n",
       "      <td>0</td>\n",
       "      <td>...</td>\n",
       "      <td>0</td>\n",
       "      <td>0</td>\n",
       "      <td>0</td>\n",
       "      <td>0</td>\n",
       "      <td>0</td>\n",
       "      <td>0</td>\n",
       "      <td>0</td>\n",
       "      <td>0</td>\n",
       "      <td>0</td>\n",
       "      <td>0</td>\n",
       "    </tr>\n",
       "    <tr>\n",
       "      <th>1</th>\n",
       "      <td>Albania</td>\n",
       "      <td>1961</td>\n",
       "      <td>0</td>\n",
       "      <td>0</td>\n",
       "      <td>0</td>\n",
       "      <td>0</td>\n",
       "      <td>0</td>\n",
       "      <td>0</td>\n",
       "      <td>0</td>\n",
       "      <td>0</td>\n",
       "      <td>...</td>\n",
       "      <td>0</td>\n",
       "      <td>0</td>\n",
       "      <td>0</td>\n",
       "      <td>0</td>\n",
       "      <td>0</td>\n",
       "      <td>0</td>\n",
       "      <td>0</td>\n",
       "      <td>0</td>\n",
       "      <td>0</td>\n",
       "      <td>0</td>\n",
       "    </tr>\n",
       "    <tr>\n",
       "      <th>2</th>\n",
       "      <td>Albania</td>\n",
       "      <td>1962</td>\n",
       "      <td>0</td>\n",
       "      <td>0</td>\n",
       "      <td>0</td>\n",
       "      <td>0</td>\n",
       "      <td>0</td>\n",
       "      <td>0</td>\n",
       "      <td>0</td>\n",
       "      <td>0</td>\n",
       "      <td>...</td>\n",
       "      <td>0</td>\n",
       "      <td>0</td>\n",
       "      <td>0</td>\n",
       "      <td>0</td>\n",
       "      <td>0</td>\n",
       "      <td>0</td>\n",
       "      <td>0</td>\n",
       "      <td>0</td>\n",
       "      <td>0</td>\n",
       "      <td>0</td>\n",
       "    </tr>\n",
       "    <tr>\n",
       "      <th>3</th>\n",
       "      <td>Albania</td>\n",
       "      <td>1963</td>\n",
       "      <td>0</td>\n",
       "      <td>0</td>\n",
       "      <td>0</td>\n",
       "      <td>0</td>\n",
       "      <td>0</td>\n",
       "      <td>0</td>\n",
       "      <td>0</td>\n",
       "      <td>0</td>\n",
       "      <td>...</td>\n",
       "      <td>0</td>\n",
       "      <td>0</td>\n",
       "      <td>0</td>\n",
       "      <td>0</td>\n",
       "      <td>0</td>\n",
       "      <td>0</td>\n",
       "      <td>0</td>\n",
       "      <td>0</td>\n",
       "      <td>0</td>\n",
       "      <td>0</td>\n",
       "    </tr>\n",
       "    <tr>\n",
       "      <th>4</th>\n",
       "      <td>Albania</td>\n",
       "      <td>1964</td>\n",
       "      <td>0</td>\n",
       "      <td>0</td>\n",
       "      <td>0</td>\n",
       "      <td>0</td>\n",
       "      <td>0</td>\n",
       "      <td>0</td>\n",
       "      <td>0</td>\n",
       "      <td>0</td>\n",
       "      <td>...</td>\n",
       "      <td>0</td>\n",
       "      <td>0</td>\n",
       "      <td>0</td>\n",
       "      <td>0</td>\n",
       "      <td>0</td>\n",
       "      <td>0</td>\n",
       "      <td>0</td>\n",
       "      <td>0</td>\n",
       "      <td>0</td>\n",
       "      <td>0</td>\n",
       "    </tr>\n",
       "  </tbody>\n",
       "</table>\n",
       "<p>5 rows × 21 columns</p>\n",
       "</div>"
      ],
      "text/plain": [
       "   Country  Year  Arabica Production  Bean Exports  Bean Imports  \\\n",
       "0  Albania  1960                   0             0             0   \n",
       "1  Albania  1961                   0             0             0   \n",
       "2  Albania  1962                   0             0             0   \n",
       "3  Albania  1963                   0             0             0   \n",
       "4  Albania  1964                   0             0             0   \n",
       "\n",
       "   Beginning Stocks  Domestic Consumption  Ending Stocks  Exports  Imports  \\\n",
       "0                 0                     0              0        0        0   \n",
       "1                 0                     0              0        0        0   \n",
       "2                 0                     0              0        0        0   \n",
       "3                 0                     0              0        0        0   \n",
       "4                 0                     0              0        0        0   \n",
       "\n",
       "   ...  Production  Roast & Ground Exports  Roast & Ground Imports  \\\n",
       "0  ...           0                       0                       0   \n",
       "1  ...           0                       0                       0   \n",
       "2  ...           0                       0                       0   \n",
       "3  ...           0                       0                       0   \n",
       "4  ...           0                       0                       0   \n",
       "\n",
       "   Robusta Production  Rst,Ground Dom. Consum  Soluble Dom. Cons.  \\\n",
       "0                   0                       0                   0   \n",
       "1                   0                       0                   0   \n",
       "2                   0                       0                   0   \n",
       "3                   0                       0                   0   \n",
       "4                   0                       0                   0   \n",
       "\n",
       "   Soluble Exports  Soluble Imports  Total Distribution  Total Supply  \n",
       "0                0                0                   0             0  \n",
       "1                0                0                   0             0  \n",
       "2                0                0                   0             0  \n",
       "3                0                0                   0             0  \n",
       "4                0                0                   0             0  \n",
       "\n",
       "[5 rows x 21 columns]"
      ]
     },
     "execution_count": 2,
     "metadata": {},
     "output_type": "execute_result"
    }
   ],
   "source": [
    "coffee = pd.read_csv('psd_coffee.csv')\n",
    "coffee.head()"
   ]
  },
  {
   "cell_type": "code",
   "execution_count": 3,
   "metadata": {},
   "outputs": [
    {
     "data": {
      "text/plain": [
       "array(['Albania', 'Algeria', 'Angola', 'Argentina', 'Armenia',\n",
       "       'Australia', 'Benin', 'Bolivia', 'Bosnia and Herzegovina',\n",
       "       'Brazil', 'Burundi', 'Cameroon', 'Canada',\n",
       "       'Central African Republic', 'Chile', 'China', 'Colombia',\n",
       "       'Congo (Brazzaville)', 'Congo (Kinshasa)', 'Costa Rica',\n",
       "       \"Cote d'Ivoire\", 'Croatia', 'Cuba', 'Dominican Republic',\n",
       "       'Ecuador', 'Egypt', 'El Salvador', 'Equatorial Guinea', 'Ethiopia',\n",
       "       'European Union', 'Gabon', 'Georgia', 'Ghana', 'Guatemala',\n",
       "       'Guinea', 'Guyana', 'Haiti', 'Honduras', 'India', 'Indonesia',\n",
       "       'Iran', 'Jamaica', 'Japan', 'Jordan', 'Kazakhstan', 'Kenya',\n",
       "       'Korea, South', 'Kosovo', 'Laos', 'Liberia', 'Madagascar',\n",
       "       'Malawi', 'Malaysia', 'Mexico', 'Montenegro', 'Morocco',\n",
       "       'New Caledonia', 'New Zealand', 'Nicaragua', 'Nigeria',\n",
       "       'North Macedonia', 'Norway', 'Panama', 'Papua New Guinea',\n",
       "       'Paraguay', 'Peru', 'Philippines', 'Russia', 'Rwanda',\n",
       "       'Saudi Arabia', 'Senegal', 'Serbia', 'Sierra Leone', 'Singapore',\n",
       "       'South Africa', 'Sri Lanka', 'Switzerland', 'Taiwan', 'Tanzania',\n",
       "       'Thailand', 'Togo', 'Trinidad and Tobago', 'Turkey', 'Uganda',\n",
       "       'Ukraine', 'United Kingdom', 'United States', 'Uruguay',\n",
       "       'Venezuela', 'Vietnam', 'Yemen', 'Yemen (Sanaa)', 'Zambia',\n",
       "       'Zimbabwe'], dtype=object)"
      ]
     },
     "execution_count": 3,
     "metadata": {},
     "output_type": "execute_result"
    }
   ],
   "source": [
    "# Which countries are included in the dataset?\n",
    "coffee['Country'].unique()"
   ]
  },
  {
   "cell_type": "markdown",
   "metadata": {},
   "source": [
    "1- How much coffee did each country produce in the last 30 years? \n",
    "Next, figure out top 10 countries in production."
   ]
  },
  {
   "cell_type": "code",
   "execution_count": 4,
   "metadata": {},
   "outputs": [
    {
     "data": {
      "text/html": [
       "<div>\n",
       "<style scoped>\n",
       "    .dataframe tbody tr th:only-of-type {\n",
       "        vertical-align: middle;\n",
       "    }\n",
       "\n",
       "    .dataframe tbody tr th {\n",
       "        vertical-align: top;\n",
       "    }\n",
       "\n",
       "    .dataframe thead th {\n",
       "        text-align: right;\n",
       "    }\n",
       "</style>\n",
       "<table border=\"1\" class=\"dataframe\">\n",
       "  <thead>\n",
       "    <tr style=\"text-align: right;\">\n",
       "      <th></th>\n",
       "      <th>Country</th>\n",
       "      <th>Production</th>\n",
       "    </tr>\n",
       "  </thead>\n",
       "  <tbody>\n",
       "    <tr>\n",
       "      <th>9</th>\n",
       "      <td>Brazil</td>\n",
       "      <td>1425100</td>\n",
       "    </tr>\n",
       "    <tr>\n",
       "      <th>89</th>\n",
       "      <td>Vietnam</td>\n",
       "      <td>590383</td>\n",
       "    </tr>\n",
       "    <tr>\n",
       "      <th>16</th>\n",
       "      <td>Colombia</td>\n",
       "      <td>359961</td>\n",
       "    </tr>\n",
       "    <tr>\n",
       "      <th>39</th>\n",
       "      <td>Indonesia</td>\n",
       "      <td>277510</td>\n",
       "    </tr>\n",
       "    <tr>\n",
       "      <th>28</th>\n",
       "      <td>Ethiopia</td>\n",
       "      <td>168963</td>\n",
       "    </tr>\n",
       "    <tr>\n",
       "      <th>38</th>\n",
       "      <td>India</td>\n",
       "      <td>149130</td>\n",
       "    </tr>\n",
       "    <tr>\n",
       "      <th>53</th>\n",
       "      <td>Mexico</td>\n",
       "      <td>130318</td>\n",
       "    </tr>\n",
       "    <tr>\n",
       "      <th>37</th>\n",
       "      <td>Honduras</td>\n",
       "      <td>128403</td>\n",
       "    </tr>\n",
       "    <tr>\n",
       "      <th>83</th>\n",
       "      <td>Uganda</td>\n",
       "      <td>120416</td>\n",
       "    </tr>\n",
       "    <tr>\n",
       "      <th>33</th>\n",
       "      <td>Guatemala</td>\n",
       "      <td>117974</td>\n",
       "    </tr>\n",
       "  </tbody>\n",
       "</table>\n",
       "</div>"
      ],
      "text/plain": [
       "      Country  Production\n",
       "9      Brazil     1425100\n",
       "89    Vietnam      590383\n",
       "16   Colombia      359961\n",
       "39  Indonesia      277510\n",
       "28   Ethiopia      168963\n",
       "38      India      149130\n",
       "53     Mexico      130318\n",
       "37   Honduras      128403\n",
       "83     Uganda      120416\n",
       "33  Guatemala      117974"
      ]
     },
     "execution_count": 4,
     "metadata": {},
     "output_type": "execute_result"
    }
   ],
   "source": [
    "# subset dataset from 1993 to 2023\n",
    "thirty_years = coffee[coffee['Year'] > 1992]\n",
    "\n",
    "# group 'production' column\n",
    "df = thirty_years.groupby('Country')['Production'].sum().reset_index()\n",
    "\n",
    "# top 10 countries\n",
    "df.sort_values(by=['Production'], ascending=False).head(10)"
   ]
  },
  {
   "cell_type": "markdown",
   "metadata": {},
   "source": [
    "2- Which countries have production value that is not zero? Find the total number."
   ]
  },
  {
   "cell_type": "code",
   "execution_count": 5,
   "metadata": {},
   "outputs": [
    {
     "name": "stdout",
     "output_type": "stream",
     "text": [
      "Producers: 57 \n",
      " Non-producers: 37\n"
     ]
    }
   ],
   "source": [
    "# subset values that are non-zero\n",
    "not_zero = df[df['Production'] != 0]\n",
    "\n",
    "print(f'Producers: {len(not_zero)} \\n Non-producers: {len(df)- len(not_zero)}')"
   ]
  },
  {
   "cell_type": "markdown",
   "metadata": {},
   "source": [
    "3- How did the total production grow in the last 30 years? Plot the data."
   ]
  },
  {
   "cell_type": "code",
   "execution_count": 6,
   "metadata": {},
   "outputs": [
    {
     "data": {
      "text/plain": [
       "([<matplotlib.axis.XTick at 0x7f1e60813438>,\n",
       "  <matplotlib.axis.XTick at 0x7f1e6080bfd0>,\n",
       "  <matplotlib.axis.XTick at 0x7f1e607bfc88>,\n",
       "  <matplotlib.axis.XTick at 0x7f1e587692e8>,\n",
       "  <matplotlib.axis.XTick at 0x7f1e58769780>,\n",
       "  <matplotlib.axis.XTick at 0x7f1e58769c18>,\n",
       "  <matplotlib.axis.XTick at 0x7f1e587750f0>,\n",
       "  <matplotlib.axis.XTick at 0x7f1e58775588>,\n",
       "  <matplotlib.axis.XTick at 0x7f1e6080bc88>,\n",
       "  <matplotlib.axis.XTick at 0x7f1e58786b38>,\n",
       "  <matplotlib.axis.XTick at 0x7f1e5878c048>],\n",
       " [Text(0, 0, ''),\n",
       "  Text(0, 0, ''),\n",
       "  Text(0, 0, ''),\n",
       "  Text(0, 0, ''),\n",
       "  Text(0, 0, ''),\n",
       "  Text(0, 0, ''),\n",
       "  Text(0, 0, ''),\n",
       "  Text(0, 0, ''),\n",
       "  Text(0, 0, ''),\n",
       "  Text(0, 0, ''),\n",
       "  Text(0, 0, '')])"
      ]
     },
     "execution_count": 6,
     "metadata": {},
     "output_type": "execute_result"
    },
    {
     "data": {
      "image/png": "[encoded data removed]",
      "text/plain": [
       "<Figure size 720x360 with 1 Axes>"
      ]
     },
     "metadata": {},
     "output_type": "display_data"
    }
   ],
   "source": [
    "# set the style\n",
    "sns.set_style('whitegrid')\n",
    "\n",
    "# set figure size\n",
    "plt.figure(figsize=(10,5))\n",
    "\n",
    "sns.lineplot(data=thirty_years.groupby('Year')['Production'].sum().reset_index(), \n",
    "            x='Year', y='Production'\n",
    "            ).set(title='Total production growth in 30 years')\n",
    "\n",
    "plt.xticks(np.linspace(1993, 2023, 11))"
   ]
  },
  {
   "cell_type": "code",
   "execution_count": 7,
   "metadata": {},
   "outputs": [],
   "source": [
    "# How correlated is total consuption with total production?"
   ]
  },
  {
   "cell_type": "markdown",
   "metadata": {},
   "source": [
    "4- What percentage of total production is exported?"
   ]
  },
  {
   "cell_type": "code",
   "execution_count": 8,
   "metadata": {},
   "outputs": [
    {
     "data": {
      "text/plain": [
       "80.8921874164547"
      ]
     },
     "execution_count": 8,
     "metadata": {},
     "output_type": "execute_result"
    }
   ],
   "source": [
    "total_production = thirty_years['Production'].sum()\n",
    "total_export = thirty_years['Exports'].sum()\n",
    "\n",
    "total_export / total_production  * 100"
   ]
  },
  {
   "cell_type": "markdown",
   "metadata": {},
   "source": [
    "5- Plot the relational graph of export and consumption."
   ]
  },
  {
   "cell_type": "code",
   "execution_count": 9,
   "metadata": {},
   "outputs": [
    {
     "data": {
      "text/plain": [
       "<seaborn.axisgrid.FacetGrid at 0x7f1e586a2e80>"
      ]
     },
     "execution_count": 9,
     "metadata": {},
     "output_type": "execute_result"
    },
    {
     "data": {
      "image/png": "[encoded data removed]",
      "text/plain": [
       "<Figure size 701.125x360 with 1 Axes>"
      ]
     },
     "metadata": {},
     "output_type": "display_data"
    }
   ],
   "source": [
    "# group data by year and get mean values from Production and Exports columns\n",
    "all_years = coffee.groupby('Year')[['Production', 'Exports']].mean().reset_index()\n",
    "\n",
    "sns.relplot(data=pd.melt(all_years, ['Year']), x='Year', y='value', hue='variable',\n",
    "            kind='line', aspect=1.7, height=5\n",
    "           ).set(title='Relational graph of export and consumption')"
   ]
  },
  {
   "cell_type": "markdown",
   "metadata": {},
   "source": [
    " In the graph, we see the trends of the lines are smilar to each other.\n",
    "Production line tends to have deeper declines and rises than exports line.\n",
    "\n",
    "6- In order to see the relation between Production and Exports from another way, create a plot of differences in the means of production and export for decades."
   ]
  },
  {
   "cell_type": "code",
   "execution_count": 10,
   "metadata": {},
   "outputs": [
    {
     "data": {
      "text/html": [
       "<div>\n",
       "<style scoped>\n",
       "    .dataframe tbody tr th:only-of-type {\n",
       "        vertical-align: middle;\n",
       "    }\n",
       "\n",
       "    .dataframe tbody tr th {\n",
       "        vertical-align: top;\n",
       "    }\n",
       "\n",
       "    .dataframe thead th {\n",
       "        text-align: right;\n",
       "    }\n",
       "</style>\n",
       "<table border=\"1\" class=\"dataframe\">\n",
       "  <thead>\n",
       "    <tr style=\"text-align: right;\">\n",
       "      <th></th>\n",
       "      <th>bins</th>\n",
       "      <th>Production</th>\n",
       "      <th>Exports</th>\n",
       "      <th>diff_in_means</th>\n",
       "    </tr>\n",
       "  </thead>\n",
       "  <tbody>\n",
       "    <tr>\n",
       "      <th>0</th>\n",
       "      <td>(1960, 1970]</td>\n",
       "      <td>712.445745</td>\n",
       "      <td>533.357447</td>\n",
       "      <td>179.088298</td>\n",
       "    </tr>\n",
       "    <tr>\n",
       "      <th>1</th>\n",
       "      <td>(1970, 1980]</td>\n",
       "      <td>798.914894</td>\n",
       "      <td>626.057447</td>\n",
       "      <td>172.857447</td>\n",
       "    </tr>\n",
       "    <tr>\n",
       "      <th>2</th>\n",
       "      <td>(1980, 1990]</td>\n",
       "      <td>987.987234</td>\n",
       "      <td>753.011702</td>\n",
       "      <td>234.975532</td>\n",
       "    </tr>\n",
       "    <tr>\n",
       "      <th>3</th>\n",
       "      <td>(1990, 2000]</td>\n",
       "      <td>1082.153191</td>\n",
       "      <td>861.390426</td>\n",
       "      <td>220.762766</td>\n",
       "    </tr>\n",
       "    <tr>\n",
       "      <th>4</th>\n",
       "      <td>(2000, 2010]</td>\n",
       "      <td>1336.595745</td>\n",
       "      <td>1063.335106</td>\n",
       "      <td>273.260638</td>\n",
       "    </tr>\n",
       "  </tbody>\n",
       "</table>\n",
       "</div>"
      ],
      "text/plain": [
       "           bins   Production      Exports  diff_in_means\n",
       "0  (1960, 1970]   712.445745   533.357447     179.088298\n",
       "1  (1970, 1980]   798.914894   626.057447     172.857447\n",
       "2  (1980, 1990]   987.987234   753.011702     234.975532\n",
       "3  (1990, 2000]  1082.153191   861.390426     220.762766\n",
       "4  (2000, 2010]  1336.595745  1063.335106     273.260638"
      ]
     },
     "execution_count": 10,
     "metadata": {},
     "output_type": "execute_result"
    }
   ],
   "source": [
    "# add 'bins' column to dataset to set bin ranges to decades in the bar plot above\n",
    "coffee['bins'] = pd.cut(x=coffee['Year'], \n",
    "                               bins=[1960, 1970, 1980, 1990, 2000, 2010, 2020, 2023])\n",
    "\n",
    "# group dataset by 'bins' and get mean values of 'Production' and 'Exports' columns\n",
    "prod_exp = coffee.groupby('bins')[['Production', 'Exports']].mean().reset_index()\n",
    "\n",
    "# get the differences in the means of production and export for decades\n",
    "prod_exp['diff_in_means'] = prod_exp['Production'] - prod_exp['Exports']\n",
    "\n",
    "prod_exp.head()"
   ]
  },
  {
   "cell_type": "code",
   "execution_count": 11,
   "metadata": {},
   "outputs": [
    {
     "data": {
      "text/plain": [
       "[Text(0.5, 1.0, 'Differences in the means of production and export for decades'),\n",
       " Text(0.5, 0, 'decades'),\n",
       " Text(0, 0.5, 'difference in means')]"
      ]
     },
     "execution_count": 11,
     "metadata": {},
     "output_type": "execute_result"
    },
    {
     "data": {
      "image/png": "[encoded data removed]",
      "text/plain": [
       "<Figure size 720x360 with 1 Axes>"
      ]
     },
     "metadata": {},
     "output_type": "display_data"
    }
   ],
   "source": [
    "# set the figure size\n",
    "plt.figure(figsize=(10,5))\n",
    "\n",
    "sns.barplot(data=prod_exp, \n",
    "            x='bins', y='diff_in_means'\n",
    "           ).set(title='Differences in the means of production and export for decades',\n",
    "            xlabel='decades', \n",
    "            ylabel='difference in means')"
   ]
  },
  {
   "cell_type": "markdown",
   "metadata": {},
   "source": [
    "As seen, in recent years the difference between production and exports has risen. Since we took these numbers by subtracting production from export, it worths to mention that it does not give information about production/export growth or contraction."
   ]
  }
 ],
 "metadata": {
  "kernelspec": {
   "display_name": "Python 3",
   "language": "python",
   "name": "python3"
  },
  "language_info": {
   "codemirror_mode": {
    "name": "ipython",
    "version": 3
   },
   "file_extension": ".py",
   "mimetype": "text/x-python",
   "name": "python",
   "nbconvert_exporter": "python",
   "pygments_lexer": "ipython3",
   "version": "3.6.9"
  }
 },
 "nbformat": 4,
 "nbformat_minor": 2
}
