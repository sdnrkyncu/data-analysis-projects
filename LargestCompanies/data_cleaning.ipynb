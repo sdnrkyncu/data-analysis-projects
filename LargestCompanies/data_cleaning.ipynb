{
 "cells": [
  {
   "cell_type": "markdown",
   "metadata": {},
   "source": [
    "It is a python script for making necessary data cleaning before creating an SQL database. <br>\n",
    "PS: Not all that could be made here is made in purpose because the main project is going to be an SQL project."
   ]
  },
  {
   "cell_type": "code",
   "execution_count": 13,
   "metadata": {},
   "outputs": [],
   "source": [
    "import pandas as pd"
   ]
  },
  {
   "cell_type": "code",
   "execution_count": 14,
   "metadata": {},
   "outputs": [],
   "source": [
    "df = pd.read_csv('Largest companies in world.csv')"
   ]
  },
  {
   "cell_type": "code",
   "execution_count": 15,
   "metadata": {},
   "outputs": [
    {
     "data": {
      "text/html": [
       "<div>\n",
       "<style scoped>\n",
       "    .dataframe tbody tr th:only-of-type {\n",
       "        vertical-align: middle;\n",
       "    }\n",
       "\n",
       "    .dataframe tbody tr th {\n",
       "        vertical-align: top;\n",
       "    }\n",
       "\n",
       "    .dataframe thead th {\n",
       "        text-align: right;\n",
       "    }\n",
       "</style>\n",
       "<table border=\"1\" class=\"dataframe\">\n",
       "  <thead>\n",
       "    <tr style=\"text-align: right;\">\n",
       "      <th></th>\n",
       "      <th>rank</th>\n",
       "      <th>organizationName</th>\n",
       "      <th>country</th>\n",
       "      <th>revenue</th>\n",
       "      <th>profits</th>\n",
       "      <th>assets</th>\n",
       "      <th>marketValue</th>\n",
       "    </tr>\n",
       "  </thead>\n",
       "  <tbody>\n",
       "    <tr>\n",
       "      <th>0</th>\n",
       "      <td>1</td>\n",
       "      <td>JPMorgan Chase</td>\n",
       "      <td>United States</td>\n",
       "      <td>179.93 B</td>\n",
       "      <td>41.8 B</td>\n",
       "      <td>3,744.3 B</td>\n",
       "      <td>399.59 B</td>\n",
       "    </tr>\n",
       "    <tr>\n",
       "      <th>1</th>\n",
       "      <td>2</td>\n",
       "      <td>Saudi Arabian Oil Company (Saudi Aramco)</td>\n",
       "      <td>Saudi Arabia</td>\n",
       "      <td>589.47 B</td>\n",
       "      <td>156.36 B</td>\n",
       "      <td>660.99 B</td>\n",
       "      <td>2,055.22 B</td>\n",
       "    </tr>\n",
       "    <tr>\n",
       "      <th>2</th>\n",
       "      <td>3</td>\n",
       "      <td>ICBC</td>\n",
       "      <td>China</td>\n",
       "      <td>216.77 B</td>\n",
       "      <td>52.47 B</td>\n",
       "      <td>6,116.82 B</td>\n",
       "      <td>203.01 B</td>\n",
       "    </tr>\n",
       "    <tr>\n",
       "      <th>3</th>\n",
       "      <td>4</td>\n",
       "      <td>China Construction Bank</td>\n",
       "      <td>China</td>\n",
       "      <td>203.08 B</td>\n",
       "      <td>48.25 B</td>\n",
       "      <td>4,977.48 B</td>\n",
       "      <td>172.99 B</td>\n",
       "    </tr>\n",
       "    <tr>\n",
       "      <th>4</th>\n",
       "      <td>5</td>\n",
       "      <td>Agricultural Bank of China</td>\n",
       "      <td>China</td>\n",
       "      <td>186.14 B</td>\n",
       "      <td>37.92 B</td>\n",
       "      <td>5,356.86 B</td>\n",
       "      <td>141.82 B</td>\n",
       "    </tr>\n",
       "    <tr>\n",
       "      <th>...</th>\n",
       "      <td>...</td>\n",
       "      <td>...</td>\n",
       "      <td>...</td>\n",
       "      <td>...</td>\n",
       "      <td>...</td>\n",
       "      <td>...</td>\n",
       "      <td>...</td>\n",
       "    </tr>\n",
       "    <tr>\n",
       "      <th>2046</th>\n",
       "      <td>1,996</td>\n",
       "      <td>Alfa Laval</td>\n",
       "      <td>Sweden</td>\n",
       "      <td>5.35 B</td>\n",
       "      <td>489.5 M</td>\n",
       "      <td>7.82 B</td>\n",
       "      <td>15.6 B</td>\n",
       "    </tr>\n",
       "    <tr>\n",
       "      <th>2047</th>\n",
       "      <td>1,996</td>\n",
       "      <td>Gap</td>\n",
       "      <td>United States</td>\n",
       "      <td>15.62 B</td>\n",
       "      <td>-202 M</td>\n",
       "      <td>11.39 B</td>\n",
       "      <td>3.17 B</td>\n",
       "    </tr>\n",
       "    <tr>\n",
       "      <th>2048</th>\n",
       "      <td>1,996</td>\n",
       "      <td>Yes Bank</td>\n",
       "      <td>India</td>\n",
       "      <td>3.34 B</td>\n",
       "      <td>91.6 M</td>\n",
       "      <td>43.22 B</td>\n",
       "      <td>5.6 B</td>\n",
       "    </tr>\n",
       "    <tr>\n",
       "      <th>2049</th>\n",
       "      <td>1,999</td>\n",
       "      <td>BEKB-BCBE</td>\n",
       "      <td>Switzerland</td>\n",
       "      <td>556 M</td>\n",
       "      <td>167.1 M</td>\n",
       "      <td>42.97 B</td>\n",
       "      <td>2.49 B</td>\n",
       "    </tr>\n",
       "    <tr>\n",
       "      <th>2050</th>\n",
       "      <td>1,999</td>\n",
       "      <td>Ipsen</td>\n",
       "      <td>France</td>\n",
       "      <td>3.18 B</td>\n",
       "      <td>681.7 M</td>\n",
       "      <td>5.99 B</td>\n",
       "      <td>10.21 B</td>\n",
       "    </tr>\n",
       "  </tbody>\n",
       "</table>\n",
       "<p>2051 rows × 7 columns</p>\n",
       "</div>"
      ],
      "text/plain": [
       "       rank                          organizationName        country  \\\n",
       "0         1                            JPMorgan Chase  United States   \n",
       "1         2  Saudi Arabian Oil Company (Saudi Aramco)   Saudi Arabia   \n",
       "2         3                                      ICBC          China   \n",
       "3         4                   China Construction Bank          China   \n",
       "4         5                Agricultural Bank of China          China   \n",
       "...     ...                                       ...            ...   \n",
       "2046  1,996                                Alfa Laval         Sweden   \n",
       "2047  1,996                                       Gap  United States   \n",
       "2048  1,996                                  Yes Bank          India   \n",
       "2049  1,999                                 BEKB-BCBE    Switzerland   \n",
       "2050  1,999                                     Ipsen         France   \n",
       "\n",
       "       revenue   profits      assets marketValue  \n",
       "0     179.93 B    41.8 B   3,744.3 B    399.59 B  \n",
       "1     589.47 B  156.36 B    660.99 B  2,055.22 B  \n",
       "2     216.77 B   52.47 B  6,116.82 B    203.01 B  \n",
       "3     203.08 B   48.25 B  4,977.48 B    172.99 B  \n",
       "4     186.14 B   37.92 B  5,356.86 B    141.82 B  \n",
       "...        ...       ...         ...         ...  \n",
       "2046    5.35 B   489.5 M      7.82 B      15.6 B  \n",
       "2047   15.62 B    -202 M     11.39 B      3.17 B  \n",
       "2048    3.34 B    91.6 M     43.22 B       5.6 B  \n",
       "2049     556 M   167.1 M     42.97 B      2.49 B  \n",
       "2050    3.18 B   681.7 M      5.99 B     10.21 B  \n",
       "\n",
       "[2051 rows x 7 columns]"
      ]
     },
     "execution_count": 15,
     "metadata": {},
     "output_type": "execute_result"
    }
   ],
   "source": [
    "df"
   ]
  },
  {
   "cell_type": "code",
   "execution_count": 16,
   "metadata": {},
   "outputs": [
    {
     "data": {
      "text/plain": [
       "rank                1\n",
       "organizationName    1\n",
       "country             1\n",
       "revenue             2\n",
       "profits             2\n",
       "assets              2\n",
       "marketValue         2\n",
       "dtype: int64"
      ]
     },
     "execution_count": 16,
     "metadata": {},
     "output_type": "execute_result"
    }
   ],
   "source": [
    "df.isnull().sum()"
   ]
  },
  {
   "cell_type": "code",
   "execution_count": 17,
   "metadata": {},
   "outputs": [],
   "source": [
    "df.dropna(inplace=True)"
   ]
  },
  {
   "cell_type": "code",
   "execution_count": 18,
   "metadata": {},
   "outputs": [
    {
     "data": {
      "text/plain": [
       "50"
      ]
     },
     "execution_count": 18,
     "metadata": {},
     "output_type": "execute_result"
    }
   ],
   "source": [
    "df.duplicated().sum()"
   ]
  },
  {
   "cell_type": "code",
   "execution_count": 19,
   "metadata": {},
   "outputs": [],
   "source": [
    "df.drop_duplicates(inplace=True)"
   ]
  },
  {
   "cell_type": "code",
   "execution_count": 20,
   "metadata": {},
   "outputs": [],
   "source": [
    "# Function for removing B (billion) and M (million) in numerical columns\n",
    "def convert_to_int(value):\n",
    "    value = value.replace(',', '')\n",
    "    value = str(value).strip() \n",
    "    if 'B' in value:\n",
    "        return int(float(value.replace('B', '')) * 1e9)\n",
    "    elif 'M' in value:\n",
    "        return int(float(value.replace('M', '')) * 1e6)\n",
    "    else:\n",
    "        return int(float(value))"
   ]
  },
  {
   "cell_type": "code",
   "execution_count": 21,
   "metadata": {},
   "outputs": [],
   "source": [
    "# loop for applying convert_to_int() over selected columns\n",
    "for column in ['revenue', 'profits', 'assets', 'marketValue']:\n",
    "    df[column] = df[column].apply(convert_to_int)"
   ]
  },
  {
   "cell_type": "code",
   "execution_count": 22,
   "metadata": {},
   "outputs": [
    {
     "data": {
      "text/html": [
       "<div>\n",
       "<style scoped>\n",
       "    .dataframe tbody tr th:only-of-type {\n",
       "        vertical-align: middle;\n",
       "    }\n",
       "\n",
       "    .dataframe tbody tr th {\n",
       "        vertical-align: top;\n",
       "    }\n",
       "\n",
       "    .dataframe thead th {\n",
       "        text-align: right;\n",
       "    }\n",
       "</style>\n",
       "<table border=\"1\" class=\"dataframe\">\n",
       "  <thead>\n",
       "    <tr style=\"text-align: right;\">\n",
       "      <th></th>\n",
       "      <th>rank</th>\n",
       "      <th>organizationName</th>\n",
       "      <th>country</th>\n",
       "      <th>revenue</th>\n",
       "      <th>profits</th>\n",
       "      <th>assets</th>\n",
       "      <th>marketValue</th>\n",
       "    </tr>\n",
       "  </thead>\n",
       "  <tbody>\n",
       "    <tr>\n",
       "      <th>0</th>\n",
       "      <td>1</td>\n",
       "      <td>JPMorgan Chase</td>\n",
       "      <td>United States</td>\n",
       "      <td>179930000000</td>\n",
       "      <td>41800000000</td>\n",
       "      <td>3744300000000</td>\n",
       "      <td>399590000000</td>\n",
       "    </tr>\n",
       "    <tr>\n",
       "      <th>1</th>\n",
       "      <td>2</td>\n",
       "      <td>Saudi Arabian Oil Company (Saudi Aramco)</td>\n",
       "      <td>Saudi Arabia</td>\n",
       "      <td>589470000000</td>\n",
       "      <td>156360000000</td>\n",
       "      <td>660990000000</td>\n",
       "      <td>2055219999999</td>\n",
       "    </tr>\n",
       "    <tr>\n",
       "      <th>2</th>\n",
       "      <td>3</td>\n",
       "      <td>ICBC</td>\n",
       "      <td>China</td>\n",
       "      <td>216770000000</td>\n",
       "      <td>52470000000</td>\n",
       "      <td>6116820000000</td>\n",
       "      <td>203010000000</td>\n",
       "    </tr>\n",
       "    <tr>\n",
       "      <th>3</th>\n",
       "      <td>4</td>\n",
       "      <td>China Construction Bank</td>\n",
       "      <td>China</td>\n",
       "      <td>203080000000</td>\n",
       "      <td>48250000000</td>\n",
       "      <td>4977480000000</td>\n",
       "      <td>172990000000</td>\n",
       "    </tr>\n",
       "    <tr>\n",
       "      <th>4</th>\n",
       "      <td>5</td>\n",
       "      <td>Agricultural Bank of China</td>\n",
       "      <td>China</td>\n",
       "      <td>186140000000</td>\n",
       "      <td>37920000000</td>\n",
       "      <td>5356860000000</td>\n",
       "      <td>141820000000</td>\n",
       "    </tr>\n",
       "  </tbody>\n",
       "</table>\n",
       "</div>"
      ],
      "text/plain": [
       "  rank                          organizationName        country       revenue  \\\n",
       "0    1                            JPMorgan Chase  United States  179930000000   \n",
       "1    2  Saudi Arabian Oil Company (Saudi Aramco)   Saudi Arabia  589470000000   \n",
       "2    3                                      ICBC          China  216770000000   \n",
       "3    4                   China Construction Bank          China  203080000000   \n",
       "4    5                Agricultural Bank of China          China  186140000000   \n",
       "\n",
       "        profits         assets    marketValue  \n",
       "0   41800000000  3744300000000   399590000000  \n",
       "1  156360000000   660990000000  2055219999999  \n",
       "2   52470000000  6116820000000   203010000000  \n",
       "3   48250000000  4977480000000   172990000000  \n",
       "4   37920000000  5356860000000   141820000000  "
      ]
     },
     "execution_count": 22,
     "metadata": {},
     "output_type": "execute_result"
    }
   ],
   "source": [
    "df.head()"
   ]
  },
  {
   "cell_type": "code",
   "execution_count": 23,
   "metadata": {},
   "outputs": [],
   "source": [
    "# divide the df into two separate tables for strategical purposes\n",
    "PrimaryValues = df.drop('marketValue', axis=1)\n",
    "MarketValues = df['marketValue']"
   ]
  },
  {
   "cell_type": "code",
   "execution_count": 12,
   "metadata": {},
   "outputs": [],
   "source": [
    "# save dataframes into csv files\n",
    "PrimaryValues.to_csv('PrimaryValues.csv')\n",
    "MarketValues.to_csv('MarketValues.csv')"
   ]
  }
 ],
 "metadata": {
  "kernelspec": {
   "display_name": "Python 3",
   "language": "python",
   "name": "python3"
  },
  "language_info": {
   "codemirror_mode": {
    "name": "ipython",
    "version": 3
   },
   "file_extension": ".py",
   "mimetype": "text/x-python",
   "name": "python",
   "nbconvert_exporter": "python",
   "pygments_lexer": "ipython3",
   "version": "3.6.9"
  }
 },
 "nbformat": 4,
 "nbformat_minor": 2
}
